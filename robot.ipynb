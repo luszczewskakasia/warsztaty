{
  "nbformat": 4,
  "nbformat_minor": 0,
  "metadata": {
    "colab": {
      "provenance": [],
      "authorship_tag": "ABX9TyOUBfLuYjECl/6iqdyWbonQ",
      "include_colab_link": true
    },
    "kernelspec": {
      "name": "python3",
      "display_name": "Python 3"
    },
    "language_info": {
      "name": "python"
    }
  },
  "cells": [
    {
      "cell_type": "markdown",
      "metadata": {
        "id": "view-in-github",
        "colab_type": "text"
      },
      "source": [
        "<a href=\"https://colab.research.google.com/github/luszczewskakasia/warsztaty/blob/main/robot.ipynb\" target=\"_parent\"><img src=\"https://colab.research.google.com/assets/colab-badge.svg\" alt=\"Open In Colab\"/></a>"
      ]
    },
    {
      "cell_type": "code",
      "execution_count": 55,
      "metadata": {
        "colab": {
          "base_uri": "https://localhost:8080/",
          "height": 538
        },
        "id": "y83G2F9ETFyV",
        "outputId": "ddcf0b28-cd26-4a6d-fc4d-b57fb367f76c"
      },
      "outputs": [
        {
          "output_type": "display_data",
          "data": {
            "text/plain": [
              "<Figure size 432x288 with 1 Axes>"
            ],
            "image/png": "[encoded data removed]"
          },
          "metadata": {
            "needs_background": "light"
          }
        },
        {
          "output_type": "stream",
          "name": "stdout",
          "text": [
            "9228\n"
          ]
        },
        {
          "output_type": "display_data",
          "data": {
            "text/plain": [
              "<Figure size 432x288 with 1 Axes>"
            ],
            "image/png": "[encoded data removed]"
          },
          "metadata": {
            "needs_background": "light"
          }
        }
      ],
      "source": [
        "import cv2\n",
        "from matplotlib import pyplot as plt\n",
        "import numpy as np\n",
        "import math\n",
        "import os\n",
        "import copy\n",
        "import random\n",
        "import matplotlib.image as mpimg\n",
        "\n",
        "circles = cv2.imread(\"487px-OpenCV_Logo_with_text.png\", cv2.IMREAD_COLOR)\n",
        "\n",
        "hsv = cv2.cvtColor(circles, cv2.COLOR_BGR2HSV)\n",
        "lower_bound = np.array([50, 20, 20])\t \n",
        "upper_bound = np.array([100, 255, 255])\n",
        "\n",
        "mask = cv2.inRange(hsv, lower_bound, upper_bound)\n",
        "ret,thr = cv2.threshold(mask,0,255,cv2.THRESH_BINARY+cv2.THRESH_TRIANGLE)\n",
        "M = mask.shape[0]//2\n",
        "N = mask.shape[1]//2\n",
        "splitted_image = [mask[x:x+M,y:y+N] for x in range(0,mask.shape[0],M) for y in range(0,mask.shape[1],N)]\n",
        "plt.imshow(splitted_image[0])\n",
        "plt.show()\n",
        "white_pix = cv2.countNonZero(splitted_image[0])\n",
        "\n",
        "print(white_pix)\n",
        "\n",
        "# for x in range(0,mask.shape[0],M):\n",
        "#   for y in range(0,mask.shape[1],N):\n",
        "#     splitted_image = np.array(mask[x:x+M,y:y+N])\n",
        "#     plt.imshow(splitted_image[x][y])\n",
        "#     plt.show()\n",
        "\n",
        "# white_pix = 0\n",
        "# for i in splitted_image: #for every box\n",
        "#   white_pix = cv2.countNonZero(splitted_image[i])\n",
        "#   print(np.max(white_pix))\n",
        "\n",
        "# plt.imshow(mask)\n",
        "# plt.show()\n",
        "\n",
        "\n",
        "\n",
        "# plt.imshow(tiles[0])\n",
        "# plt.show()\n",
        "# plt.imshow(tiles[1])\n",
        "# plt.show()\n",
        "\n",
        "\n",
        "\n",
        "plt.imshow(circles)\n",
        "plt.show()"
      ]
    }
  ]
}